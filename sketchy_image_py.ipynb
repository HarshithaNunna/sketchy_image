{
  "nbformat": 4,
  "nbformat_minor": 0,
  "metadata": {
    "colab": {
      "provenance": [],
      "authorship_tag": "ABX9TyO58oM45laygdALhRtEouIR",
      "include_colab_link": true
    },
    "kernelspec": {
      "name": "python3",
      "display_name": "Python 3"
    },
    "language_info": {
      "name": "python"
    }
  },
  "cells": [
    {
      "cell_type": "markdown",
      "metadata": {
        "id": "view-in-github",
        "colab_type": "text"
      },
      "source": [
        "<a href=\"https://colab.research.google.com/github/HarshithaNunna/sketchy_image/blob/main/sketchy_image_py.ipynb\" target=\"_parent\"><img src=\"https://colab.research.google.com/assets/colab-badge.svg\" alt=\"Open In Colab\"/></a>"
      ]
    },
    {
      "cell_type": "code",
      "execution_count": 2,
      "metadata": {
        "colab": {
          "base_uri": "https://localhost:8080/"
        },
        "id": "lMnbWxHY2qb9",
        "outputId": "c99d8f6b-ad1a-47bf-dc1f-e70e46737a7c"
      },
      "outputs": [
        {
          "output_type": "execute_result",
          "data": {
            "text/plain": [
              "True"
            ]
          },
          "metadata": {},
          "execution_count": 2
        }
      ],
      "source": [
        "import cv2\n",
        "image=cv2.imread(\"/content/WhatsApp Image 2023-07-18 at 9.56.00 PM.jpeg\")\n",
        "#apply grey filter converts color # blue green\n",
        "#red to gray  which is a module in cv2\n",
        "grey_filter =cv2.cvtColor(image, cv2.COLOR_BGR2GRAY)\n",
        "invert = cv2.bitwise_not(grey_filter)\n",
        "blur=cv2.GaussianBlur(invert,(21,21),0)\n",
        "invertedblur=cv2.bitwise_not(blur) #have qualities of our need\n",
        "#providing sketch filter\n",
        "sketch_filter=cv2.divide(grey_filter,invertedblur,scale=256.0)\n",
        "cv2.imwrite(\"output.png\",sketch_filter)"
      ]
    }
  ]
}